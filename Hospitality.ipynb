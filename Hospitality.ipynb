{
 "cells": [
  {
   "cell_type": "code",
   "execution_count": null,
   "metadata": {},
   "outputs": [],
   "source": [
    "import pandas as pd\n",
    "import numpy as np\n",
    "import folium\n",
    "from folium.plugins import MarkerCluster\n",
    "import geocoder\n",
    "from joblib import dump, load\n",
    "import seaborn as sns\n",
    "import matplotlib.pyplot as plt\n",
    "from sklearn.utils import shuffle\n",
    "from sklearn.model_selection import GridSearchCV\n",
    "from sklearn.ensemble import RandomForestClassifier\n",
    "from sklearn.metrics import roc_auc_score\n",
    "from sklearn.metrics import roc_curve\n",
    "from pandas_profiling import ProfileReport\n",
    "\n",
    "\n",
    "\"\"\"\n",
    "Data\n",
    "\"\"\"\n",
    "data_info = pd.read_csv('hotels_information.csv')\n",
    "print(\"data_info = \",data_info.shape)\n",
    "data_pricing = pd.read_csv('pricing_data.csv')\n",
    "print(\"data_pricing = \",data_pricing.shape)\n",
    "\n",
    "\"\"\"\n",
    "Info. table\n",
    "\"\"\"\n",
    "def info_table(df):\n",
    "    tb = pd.DataFrame(df.dtypes)\n",
    "    tb.columns = ['Type']\n",
    "        \n",
    "    num_unique = []\n",
    "    for i in list(tb.index):\n",
    "        num_unique.append(len(df[i].unique()))\n",
    "            \n",
    "    max_value = []\n",
    "    min_value = []\n",
    "    mean_value = []\n",
    "    std_value = []\n",
    "    mode_value = []\n",
    "    for i in list(tb.index):\n",
    "        if tb.loc[i,'Type'] == 'int64':\n",
    "            max_value.append(round(df[i].max(),3))\n",
    "            min_value.append(round(df[i].min(),3))\n",
    "            mean_value.append(round(df[i].mean(),3))\n",
    "            std_value.append(round(df.loc[:,i].std(),3))\n",
    "            mode_value.append(df[i].mode(dropna=True)[0])\n",
    "        elif tb.loc[i,'Type'] == 'float64':\n",
    "            max_value.append(round(df[i].max(),3))\n",
    "            min_value.append(round(df[i].min(),3))\n",
    "            mean_value.append(round(df[i].mean(),3))\n",
    "            std_value.append(round(df.loc[:,i].std(),3))\n",
    "            mode_value.append(df[i].mode(dropna=True)[0])\n",
    "        else:\n",
    "            max_value.append('na')\n",
    "            min_value.append('na')\n",
    "            mean_value.append('na')\n",
    "            std_value.append('na')\n",
    "            mode_value.append(df[i].mode(dropna=True)[0])\n",
    "        \n",
    "    tb['Min'] = min_value\n",
    "    tb['Max'] = max_value\n",
    "    tb['Mean'] = mean_value\n",
    "    tb['STD'] = std_value\n",
    "    tb['Unique'] = num_unique\n",
    "    tb['Zero Values'] = (df == 0.00).astype(int).sum(axis=0)\n",
    "    tb['Missing Values'] = df.isnull().sum()\n",
    "    tb['% Missing Values'] = round(100 * df.isnull().sum() / len(df),3)\n",
    "    tb['mode'] = mode_value\n",
    "    tb = tb.sort_values('Type')        \n",
    "    return tb;\n",
    "\n",
    "\"\"\"\n",
    "Country label\n",
    "\"\"\"\n",
    "def country(lat,long):\n",
    "    g = geocoder.osm([lat, long], method='reverse',short_name=False)\n",
    "#     try:\n",
    "#         get = g.json['country_code']\n",
    "#     except KeyError:\n",
    "#         get = g.json['country_code']    \n",
    "    return g.country_code;   \n",
    "\n",
    "locations = list(zip(data_info['latitude'], data_info['longitude']))\n",
    "\n",
    "# country_list = []\n",
    "# for index, tuple in enumerate(locations):\n",
    "#     country_list.append(country(tuple[0], tuple[1]))\n",
    "\n",
    "# dump(country_list,'country_list.sav')\n",
    "country_list = load('country_list.sav')\n",
    "data_info = pd.concat([data_info,pd.DataFrame(country_list,columns=['country'])],axis = 1)\n",
    "\n",
    "\"\"\"\n",
    "Remove missing/transform observations \n",
    "\"\"\"\n",
    "# data_info_no_na = data_info.dropna()\n",
    "# data_pricing_no_na = data_pricing.dropna()\n",
    "# data_info_no_na[\"stars\"] = data_info_no_na[\"stars\"].astype(\"int\")\n",
    "# data_info_no_na[\"stars\"] = data_info_no_na[\"stars\"].astype(\"object\")\n",
    "# data_info = data_info.fillna(0)\n",
    "# print(\"data_info_no_na = \",data_info_no_na.shape)\n",
    "# print(\"data_pricing_no_na = \",data_pricing_no_na.shape)\n",
    "\n",
    "\"\"\"\n",
    "DF\n",
    "\"\"\"\n",
    "df = data_info.merge(data_pricing, how = 'inner',on ='our_hotel_id')\n",
    "df['is_sold_out'] = np.where(df['is_sold_out'] == True,1,0)\n",
    "df['arrival_date']= pd.to_datetime(df['arrival_date'],format='%Y/%m/%d').dt.normalize()\n",
    "print('df = ',df.shape)"
   ]
  },
  {
   "cell_type": "code",
   "execution_count": null,
   "metadata": {},
   "outputs": [],
   "source": [
    "\"\"\"\n",
    "Simple \n",
    "\"\"\"\n",
    "# ax = sns.boxplot(x=\"country\", y=\"room_count\", data=df)\n",
    "# ax = sns.barplot(x=\"country\", y=\"price_value_ref\", data=df)"
   ]
  },
  {
   "cell_type": "code",
   "execution_count": null,
   "metadata": {},
   "outputs": [],
   "source": [
    "\"\"\"\n",
    "Complex\n",
    "\"\"\"\n",
    "# ax = sns.boxplot(x=\"stars\", y=\"room_count\",hue=\"country\", data=data_info_no_na)\n",
    "# ax = sns.barplot(x=\"meal_type_included\", y=\"is_sold_out\",hue=\"country\", data=df)\n",
    "# sns.scatterplot(data=df, x=\"lead_time\", y=\"is_sold_out\", hue=\"country\");"
   ]
  },
  {
   "cell_type": "code",
   "execution_count": null,
   "metadata": {},
   "outputs": [],
   "source": [
    "\"\"\"\n",
    "Correlations\n",
    "\"\"\"\n",
    "# corr = data_pricing_no_na[['max_persons','price_value_ref','price_value_non_ref']].corr()# plot the heatmap\n",
    "# ax = sns.heatmap(corr, xticklabels=corr.columns, yticklabels=corr.columns, annot=True, cmap=sns.diverging_palette(220, 20, as_cmap=True))\n",
    "# ax.set_yticklabels(\n",
    "#     ax.get_yticklabels(),\n",
    "#     rotation=0\n",
    "# )\n",
    "\n",
    "# ax.set_xticklabels(\n",
    "#     ax.get_xticklabels(),\n",
    "#     rotation=45,\n",
    "#     horizontalalignment='right'\n",
    "# );"
   ]
  },
  {
   "cell_type": "markdown",
   "metadata": {},
   "source": [
    "### Q. 2.1."
   ]
  },
  {
   "cell_type": "code",
   "execution_count": null,
   "metadata": {
    "scrolled": true
   },
   "outputs": [],
   "source": [
    "latitude = 50.855711\n",
    "longitude = 4.359679\n",
    "\n",
    "icon_create_function = \"\"\"\\\n",
    "function(cluster) {\n",
    "    return L.divIcon({\n",
    "    html: '<b>' + cluster.getChildCount() + '</b>',\n",
    "    className: 'marker-cluster marker-cluster-large',\n",
    "    iconSize: new L.Point(20, 20)\n",
    "    });\n",
    "}\"\"\"\n",
    "\n",
    "map_eu = folium.Map(location=[latitude, longitude], zoom_start=7,tiles='cartodbpositron')\n",
    "\n",
    "locations = list(zip(data_info['latitude'], data_info['longitude']))\n",
    "popups = [\"lon:{}<br>lat:{}\".format(lon, lat) for (lat, lon) in locations]\n",
    "\n",
    "\n",
    "marker_cluster = MarkerCluster(\n",
    "    locations=locations,\n",
    "    popups=popups,\n",
    "    name=\"1000 clustered icons\",\n",
    "    overlay=True,\n",
    "    control=True,\n",
    "    icon_create_function=icon_create_function,\n",
    ")\n",
    "\n",
    "marker_cluster.add_to(map_eu)\n",
    "\n",
    "folium.LayerControl().add_to(map_eu)\n",
    "\n",
    "map_eu"
   ]
  },
  {
   "cell_type": "markdown",
   "metadata": {},
   "source": [
    "### Q. 2.2."
   ]
  },
  {
   "cell_type": "code",
   "execution_count": null,
   "metadata": {},
   "outputs": [],
   "source": [
    "df_be = df[df['country']== 'be']\n",
    "df_nl = df[df['country']== 'nl']\n",
    "print(df_be.shape)\n",
    "print(df_nl.shape)"
   ]
  },
  {
   "cell_type": "markdown",
   "metadata": {},
   "source": [
    "#### Q.2.2.1."
   ]
  },
  {
   "cell_type": "code",
   "execution_count": null,
   "metadata": {},
   "outputs": [],
   "source": [
    "def availability(df):\n",
    "    df_cap = df.pivot_table(index='arrival_date', values= 'is_sold_out', aggfunc='sum')\n",
    "    df_cap['Available'] = len(df['our_hotel_id'].unique()) - df_cap['is_sold_out']\n",
    "    return df_cap;\n",
    "\n",
    "sns.set(rc={'figure.figsize':(16,8.27),'figure.facecolor':'white'})\n",
    "ax = sns.lineplot(data=availability(df), x=availability(df).index, y=\"Available\",color='#6C5B7B',label=\"All\")\n",
    "sns.lineplot(data = availability(df_be), x=availability(df_be).index, y=\"Available\",color='#355C7D',label=\"BE\")\n",
    "sns.lineplot(data = availability(df_nl), x=availability(df_nl).index, y=\"Available\",color='#F8B195',label=\"NL\")\n",
    "ax.set(title= 'Availability')\n",
    "ax.tick_params(labelsize=10)\n",
    "plt.xticks(availability(df).index,rotation=90);"
   ]
  },
  {
   "cell_type": "markdown",
   "metadata": {},
   "source": [
    "NL\n",
    "\n",
    "2 apr\tvrijdag\tGood Friday\tNational holiday\n",
    "4 apr\tzondag\tEaster Sunday\tNational holiday\n",
    "5 apr\tmaandag\tEaster Monday\tNational holiday\n",
    "\n",
    "Dutch Flower Parade 2021, April 17, 2021 in Amsterdam"
   ]
  },
  {
   "cell_type": "markdown",
   "metadata": {},
   "source": [
    "#### Q.2.2.2."
   ]
  },
  {
   "cell_type": "code",
   "execution_count": null,
   "metadata": {},
   "outputs": [],
   "source": [
    "def mean_price(df,type_price):\n",
    "    df_pr = df.pivot_table(index='arrival_date', values= type_price, aggfunc='mean')\n",
    "    return df_pr;\n",
    "\n",
    "sns.set(rc={'figure.figsize':(16,8.27),'figure.facecolor':'white'})\n",
    "ax = sns.lineplot(data=mean_price(df,'price_value_ref'), x=mean_price(df,'price_value_ref').index, y=\"price_value_ref\",color='#6C5B7B',label=\"All\")\n",
    "sns.lineplot(data = mean_price(df_be,'price_value_ref'), x=mean_price(df_be,'price_value_ref').index, y=\"price_value_ref\",color='#355C7D',label=\"BE\")\n",
    "sns.lineplot(data = mean_price(df_nl,'price_value_ref'), x=mean_price(df_nl,'price_value_ref').index, y=\"price_value_ref\",color='#F8B195',label=\"NL\")\n",
    "ax.set(title= 'Average price')\n",
    "ax.tick_params(labelsize=10)\n",
    "plt.xticks(mean_price(df_nl,'price_value_ref').index,rotation=90);\n",
    "    "
   ]
  },
  {
   "cell_type": "markdown",
   "metadata": {},
   "source": [
    "#### Q. 2.2.3."
   ]
  },
  {
   "cell_type": "code",
   "execution_count": null,
   "metadata": {},
   "outputs": [],
   "source": [
    "ax = sns.distplot(df_be['review_score'],color='#355C7D',label=\"BE\")\n",
    "sns.distplot(df_nl['review_score'],color='#F8B195',label=\"NL\")\n",
    "ax.set_xticks(range(-1,10))\n",
    "ax.legend(labels=['BE','NL']);"
   ]
  },
  {
   "cell_type": "markdown",
   "metadata": {},
   "source": [
    "#### Q.2.2.4."
   ]
  },
  {
   "cell_type": "code",
   "execution_count": null,
   "metadata": {},
   "outputs": [],
   "source": [
    "df_pred = df.pivot_table(index='name', values= 'is_sold_out', aggfunc='sum')\n",
    "df_pred['is_sold_out'] = np.where(df_pred['is_sold_out'] > 0,1,0)\n",
    "df_pred = df_pred.merge(df.pivot_table(index='name', values= 'price_value_ref', aggfunc='mean'),how = 'inner',left_index=True, right_index=True)\n",
    "# df_pred = df_pred.merge(df.pivot_table(index='name', values= 'price_value_non_ref', aggfunc='mean'),how = 'inner',left_index=True, right_index=True)\n",
    "df_pred = df_pred.merge(df.pivot_table(index='name', values= 'meal_type_included', aggfunc=lambda x: x.mode()),how = 'inner',left_index=True, right_index=True)\n",
    "# df_pred = df_pred.merge(df.pivot_table(index='name', values= 'room_name', aggfunc= lambda x: len(x.unique())),how = 'inner',left_index=True, right_index=True)\n",
    "df_pred = df_pred.merge(df.pivot_table(index='name', values= 'review_score', aggfunc='mean'),how = 'inner',left_index=True, right_index=True)\n",
    "df_pred = df_pred.merge(df.pivot_table(index='name', values= 'stars', aggfunc='mean'),how = 'inner',left_index=True, right_index=True)\n",
    "df_pred = df_pred.merge(df.pivot_table(index='name', values= 'room_count', aggfunc='mean'),how = 'inner',left_index=True, right_index=True)\n",
    "df_pred = df_pred.merge(df.pivot_table(index='name', values= 'country', aggfunc=lambda x: x.mode()),how = 'inner',left_index=True, right_index=True)\n",
    "df_pred['meal_type_included'] = np.where(df_pred['meal_type_included']== 'BREAKFAST',1,0)\n",
    "df_pred['country'] = np.where(df_pred['country']== 'be',1,0)\n",
    "\n",
    "df_pred = shuffle(df_pred,random_state = 0)\n",
    "print(df_pred['is_sold_out'].value_counts())"
   ]
  },
  {
   "cell_type": "code",
   "execution_count": null,
   "metadata": {},
   "outputs": [],
   "source": [
    "corr = df_pred.corr()# plot the heatmap\n",
    "ax = sns.heatmap(corr, xticklabels=corr.columns, yticklabels=corr.columns, annot=True, cmap=sns.diverging_palette(220, 20, as_cmap=True))\n",
    "ax.set_yticklabels(\n",
    "    ax.get_yticklabels(),\n",
    "    rotation=0\n",
    ")\n",
    "\n",
    "ax.set_xticklabels(\n",
    "    ax.get_xticklabels(),\n",
    "    rotation=45,\n",
    "    horizontalalignment='right'\n",
    ");"
   ]
  },
  {
   "cell_type": "code",
   "execution_count": null,
   "metadata": {
    "scrolled": true
   },
   "outputs": [],
   "source": [
    "prof = ProfileReport(df_pred)\n",
    "prof.to_file(output_file='report.html')\n",
    "prof"
   ]
  },
  {
   "cell_type": "code",
   "execution_count": null,
   "metadata": {},
   "outputs": [],
   "source": [
    "from sklearn.model_selection import train_test_split\n",
    "from sklearn import metrics\n",
    "\n",
    "\"\"\"\n",
    "Training elements\n",
    "\"\"\"\n",
    "context = [variable for variable in list(df_pred.columns) if variable not in ['is_sold_out']] \n",
    "# Make train/test split\n",
    "x_train, x_test, y_train, y_test = train_test_split(df_pred[context], df_pred['is_sold_out'], test_size=0.2,random_state = 0,stratify = df_pred['is_sold_out'])\n",
    "print(x_train.shape)\n",
    "print(x_test.shape)\n",
    "param_tuning = {\n",
    "    'max_depth': [3, 5, 7, 10], \n",
    "    'n_estimators' : [100,200,500], \n",
    "    'max_features': ['auto', 'sqrt', 'log2'], \n",
    "    'criterion' :['gini', 'entropy'], \n",
    "    'random_state': [0]\n",
    "    }\n",
    "\n",
    "\"\"\"\n",
    "Training\n",
    "\"\"\"\n",
    "est = GridSearchCV(estimator = RandomForestClassifier(), param_grid = param_tuning,cv = 10,n_jobs = -1,verbose = 1)\n",
    "\n",
    "m_fit = est.fit(x_train,y_train)\n",
    "\n",
    "\"\"\"\n",
    "Predicting\n",
    "\"\"\"\n",
    "prob = m_fit.predict_proba(x_test)[::,1]\n",
    "fpr, tpr, _ = roc_curve(y_test, prob)\n",
    "auc = roc_auc_score(y_test, prob)\n",
    "fea_imp = pd.DataFrame(m_fit.best_estimator_.feature_importances_,\n",
    "                       index = context,\n",
    "                       columns = ['importance'])\n",
    "fea_imp = fea_imp.sort_values(by = [\"importance\"], ascending = False)\n",
    "\n",
    "summary = {'model':m_fit,\n",
    "           'par_best_m':m_fit.best_params_,\n",
    "           'auc':auc,\n",
    "           'fe_importance':fea_imp}\n"
   ]
  },
  {
   "cell_type": "code",
   "execution_count": null,
   "metadata": {},
   "outputs": [],
   "source": [
    "target_index = x_test.index.values\n",
    "df_prob_target = pd.DataFrame(prob,target_index, columns = {\"Prob_\"+'is_sold_out'})\n",
    "predictions = pd.concat([x_test,df_prob_target],axis = 1)\n",
    "\n",
    "sns.set(rc={'figure.figsize':(10,6),'figure.facecolor':'white'})\n",
    "sns.regplot(x=predictions['Prob_is_sold_out'], y=predictions['price_value_ref'], line_kws={\"color\":\"r\",\"alpha\":0.9,\"lw\":5});"
   ]
  },
  {
   "cell_type": "code",
   "execution_count": null,
   "metadata": {},
   "outputs": [],
   "source": [
    "ns_probs = [0 for _ in range(len(y_test))]\n",
    "ns_auc = roc_auc_score(y_test, ns_probs)\n",
    "rf_auc = roc_auc_score(y_test, prob)\n",
    "ns_fpr, ns_tpr, _ = roc_curve(y_test, ns_probs)\n",
    "dt_fpr, dt_tpr, _ = roc_curve(y_test, prob)\n",
    "plt.plot(ns_fpr, ns_tpr, linestyle='--', label='Random')\n",
    "plt.plot(dt_fpr, dt_tpr, marker='.', label='RF')\n",
    "plt.xlabel('False Positive Rate')\n",
    "plt.ylabel('True Positive Rate')\n",
    "plt.legend()\n",
    "plt.show();\n",
    "print(\"AUC =\", rf_auc)"
   ]
  },
  {
   "cell_type": "code",
   "execution_count": null,
   "metadata": {},
   "outputs": [],
   "source": [
    "summary['fe_importance']\n",
    "ax = sns.barplot(x=summary['fe_importance']['importance'], y=summary['fe_importance'].index)\n",
    "ax.set_xlabel('Importance');"
   ]
  },
  {
   "cell_type": "code",
   "execution_count": null,
   "metadata": {},
   "outputs": [],
   "source": [
    "sns.boxplot(data=df_pred, x=\"is_sold_out\", y=\"room_count\");"
   ]
  }
 ],
 "metadata": {
  "kernelspec": {
   "display_name": "Python 3",
   "language": "python",
   "name": "python3"
  },
  "language_info": {
   "codemirror_mode": {
    "name": "ipython",
    "version": 3
   },
   "file_extension": ".py",
   "mimetype": "text/x-python",
   "name": "python",
   "nbconvert_exporter": "python",
   "pygments_lexer": "ipython3",
   "version": "3.7.3"
  }
 },
 "nbformat": 4,
 "nbformat_minor": 4
}
